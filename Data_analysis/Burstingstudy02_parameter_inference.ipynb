{
 "cells": [
  {
   "cell_type": "code",
   "execution_count": null,
   "id": "9f1375eb-e9bf-458f-b7e6-a647dba10051",
   "metadata": {
    "tags": []
   },
   "outputs": [],
   "source": [
    "#clone the scripts for bursting kinetic study \n",
    "#git clone https://github.com/sandberg-lab/txburst/"
   ]
  },
  {
   "cell_type": "code",
   "execution_count": null,
   "id": "0e588453-57bc-4241-9702-f745002d742d",
   "metadata": {},
   "outputs": [],
   "source": [
    "#Maximum likelihood inference of bursting kinetics from scRNA-seq data\n",
    "%run /data/lyuj2/Burstingfunct/txburstML.py ./148adjusted.csv "
   ]
  },
  {
   "cell_type": "code",
   "execution_count": null,
   "id": "86c0f40f-c3fa-47d3-a2d4-c4702c6c4f15",
   "metadata": {},
   "outputs": [],
   "source": [
    "#Infer the confidence intervals of parameters from scRNA-seq data\n",
    "%run /data/lyuj2/Burstingfunct/txburstPL.py --file 148adjusted.csv --MLFile 148adjusted_ML.pkl"
   ]
  },
  {
   "cell_type": "code",
   "execution_count": null,
   "id": "6cd9ea2a-789a-45a6-bc9e-7c74f62bfa72",
   "metadata": {},
   "outputs": [],
   "source": [
    "import pandas as pd\n",
    "\n",
    "#extract Kon, Koff and Ksyn\n",
    "df = pd.read_pickle('148adjusted_ML.pkl')\n",
    "MK_df = df[df[1]][0]\n",
    "MK_df_Kon = pd.Series([gene[0] for gene in MK_df], index=MK_df.index)\n",
    "MK_df_Kon.to_csv('MK_df_Kon.csv')\n",
    "\n",
    "MK_df_Koff = pd.Series([gene[1] for gene in MK_df], index=MK_df.index)\n",
    "MK_df_Koff.to_csv('MK_df_Koff.csv')\n",
    "\n",
    "MK_df_Ksys = pd.Series([gene[2] for gene in MK_df], index=MK_df.index)\n",
    "MK_df_Ksys.to_csv('MK_df_Ksys.csv')"
   ]
  },
  {
   "cell_type": "code",
   "execution_count": null,
   "id": "660ad686-02d4-4b93-8cc2-1f2bc2db85e1",
   "metadata": {},
   "outputs": [],
   "source": [
    "#extract burst frequency and the lower boundary of estimated burst frequency\n",
    "\n",
    "df = pd.read_pickle('148adjusted_PL.pkl')\n",
    "pl_df = df[1]\n",
    "\n",
    "pl_df_bf = pd.Series([gene[0] for gene in pl_df], index=pl_df.index)\n",
    "print(pl_df_bf)\n",
    "pl_df_bf.to_csv('bf.csv')\n",
    "\n",
    "pl_df_bf_low = pd.Series([gene[1] for gene in pl_df], index=pl_df.index)\n",
    "print(pl_df_bf_low)\n",
    "pl_df_bf_low.to_csv('bfl.csv')"
   ]
  },
  {
   "cell_type": "code",
   "execution_count": null,
   "id": "572afb73-5801-4e75-aa37-26b484adab0f",
   "metadata": {},
   "outputs": [],
   "source": [
    "#extract burst size and the lower boundary of estimated burst size\n",
    "\n",
    "pl_df_bs = pd.Series([gene[0] for gene in pl_df], index=pl_df.index)\n",
    "print(pl_df_bs)\n",
    "pl_df_bs.to_csv('bs.csv')\n",
    "\n",
    "pl_df_bs_low = pd.Series([gene[1] for gene in pl_df], index=pl_df.index)\n",
    "print(pl_df_bs_low)\n",
    "pl_df_bs_low.to_csv('bs_low.csv')"
   ]
  }
 ],
 "metadata": {
  "kernelspec": {
   "display_name": "python/3.7",
   "language": "python",
   "name": "py3.7"
  },
  "language_info": {
   "codemirror_mode": {
    "name": "ipython",
    "version": 3
   },
   "file_extension": ".py",
   "mimetype": "text/x-python",
   "name": "python",
   "nbconvert_exporter": "python",
   "pygments_lexer": "ipython3",
   "version": "3.7.12"
  }
 },
 "nbformat": 4,
 "nbformat_minor": 5
}
